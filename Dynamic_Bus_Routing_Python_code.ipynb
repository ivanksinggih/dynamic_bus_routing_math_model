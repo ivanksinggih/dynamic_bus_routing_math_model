{
  "nbformat": 4,
  "nbformat_minor": 0,
  "metadata": {
    "colab": {
      "provenance": []
    },
    "kernelspec": {
      "name": "python3",
      "display_name": "Python 3"
    },
    "language_info": {
      "name": "python"
    }
  },
  "cells": [
    {
      "cell_type": "markdown",
      "source": [
        "1. **Install Gurobi**"
      ],
      "metadata": {
        "id": "MWqmc2iCLgBV"
      }
    },
    {
      "cell_type": "code",
      "source": [
        "!pip install gurobipy\n",
        "import gurobipy as gp\n",
        "from gurobipy import GRB\n",
        "import pandas as pd\n",
        "import matplotlib.pyplot as plt"
      ],
      "metadata": {
        "colab": {
          "base_uri": "https://localhost:8080/"
        },
        "id": "fPbeeDahzIHn",
        "outputId": "48cb64f8-13ad-4273-b5e9-3145f775e837"
      },
      "execution_count": 1,
      "outputs": [
        {
          "output_type": "stream",
          "name": "stdout",
          "text": [
            "Requirement already satisfied: gurobipy in /usr/local/lib/python3.11/dist-packages (12.0.1)\n"
          ]
        }
      ]
    },
    {
      "cell_type": "markdown",
      "source": [
        "2. **Read Parameters**"
      ],
      "metadata": {
        "id": "1qcjP9sFyEIy"
      }
    },
    {
      "cell_type": "code",
      "source": [
        "print(\"--------------------------------------Parameter 2 Variable---------------------------------\")\n",
        "\n",
        "# Template for reading a two-dimensional data\n",
        "parameter_a = pd.read_excel('parameter_a.xlsx', index_col=0).values.tolist()\n",
        "# Removing first row and column from parameter_a\n",
        "[a.pop(0) for a in parameter_a]\n",
        "parameter_a.pop(0)\n",
        "print(\"parameter_a:\")\n",
        "for row in parameter_a:\n",
        "  print(row)\n",
        "\n",
        "print(\"-------\")\n",
        "\n",
        "# Template for reading a two-dimensional data\n",
        "parameter_t = pd.read_excel('parameter_t.xlsx', index_col=0).values.tolist()\n",
        "# Removing first row and column from parameter_a\n",
        "[t.pop(0) for t in parameter_t]\n",
        "parameter_t.pop(0)\n",
        "print(\"parameter_t:\")\n",
        "for row in parameter_t:\n",
        "  print(row)\n",
        "\n",
        "\n",
        "print(\"--------------------------------------Parameter 1 Variable---------------------------------\")\n",
        "\n",
        "parameter_d = pd.read_excel('parameter_d.xlsx').values.tolist()[0]\n",
        "\n",
        "print(\"parameter_d\")\n",
        "print (parameter_d)\n",
        "\n",
        "print(\"-------\")\n",
        "\n",
        "parameter_o = pd.read_excel('parameter_o.xlsx').values.tolist()[0]\n",
        "\n",
        "print(\"parameter_o\")\n",
        "print (parameter_o)\n",
        "\n",
        "print(\"-------\")\n",
        "\n",
        "parameter_f = pd.read_excel('parameter_f.xlsx').values.tolist()[0]\n",
        "\n",
        "print(\"parameter_f\")\n",
        "print (parameter_f)\n",
        "\n",
        "print(\"-------\")\n",
        "\n",
        "parameter_g = pd.read_excel('parameter_g.xlsx').values.tolist()[0]\n",
        "\n",
        "print(\"parameter_g\")\n",
        "print (parameter_g)\n",
        "\n",
        "print(\"-------\")\n",
        "\n",
        "parameter_q = pd.read_excel('parameter_q.xlsx').values.tolist()[0]\n",
        "\n",
        "print(\"parameter_q\")\n",
        "print (parameter_q)\n",
        "\n",
        "print(\"-------\")\n",
        "\n",
        "parameter_c = pd.read_excel('parameter_c.xlsx').values.tolist()[0]\n",
        "parameter_c=parameter_c[0]\n",
        "print(\"parameter_c\")\n",
        "print (parameter_c)\n",
        "\n",
        "print(\"-------\")\n",
        "\n",
        "parameter_e = pd.read_excel('parameter_e.xlsx').values.tolist()[0]\n",
        "parameter_e = parameter_e[0]\n",
        "print(\"parameter_e\")\n",
        "print (parameter_e)"
      ],
      "metadata": {
        "colab": {
          "base_uri": "https://localhost:8080/"
        },
        "id": "D3NhMgPmi2o2",
        "outputId": "11fcde9a-5fee-40b7-de68-fe0009a4fdd3"
      },
      "execution_count": 2,
      "outputs": [
        {
          "output_type": "stream",
          "name": "stdout",
          "text": [
            "--------------------------------------Parameter 2 Variable---------------------------------\n",
            "parameter_a:\n",
            "[1.0, 0.0]\n",
            "[1.0, 1.0]\n",
            "[1.0, 1.0]\n",
            "-------\n",
            "parameter_t:\n",
            "[0.0, 8.0, 10.0, 10.0]\n",
            "[8.0, 0.0, 11.0, 7.0]\n",
            "[10.0, 11.0, 0.0, 7.0]\n",
            "[10.0, 7.0, 7.0, 0.0]\n",
            "--------------------------------------Parameter 1 Variable---------------------------------\n",
            "parameter_d\n",
            "[2, 3]\n",
            "-------\n",
            "parameter_o\n",
            "[1, 2]\n",
            "-------\n",
            "parameter_f\n",
            "[1, 3]\n",
            "-------\n",
            "parameter_g\n",
            "[32, 27]\n",
            "-------\n",
            "parameter_q\n",
            "[20, 10]\n",
            "-------\n",
            "parameter_c\n",
            "10\n",
            "-------\n",
            "parameter_e\n",
            "0.1\n"
          ]
        }
      ]
    },
    {
      "cell_type": "markdown",
      "source": [
        "3. **Define Sets**"
      ],
      "metadata": {
        "id": "eubEJdNZKq4K"
      }
    },
    {
      "cell_type": "code",
      "source": [
        "# Define sets\n",
        "print(parameter_a[0])\n",
        "\n",
        "K = variable_indices_sequence_index = [*range(1,len(parameter_a[0])+1)] #Routes\n",
        "N = list(range(1,len(parameter_a)+1))  # 1, 2, 3]  # Stations (without depot 0)\n",
        "N_with_depot = [0] + N.copy()\n",
        "P = list(range(1,len(parameter_o)+1))\n",
        "#P = [1, 2]  # Passenger groups\n",
        "\n",
        "\n",
        "print(K)\n",
        "print(N)\n",
        "print(\"N_with_depot = \", N_with_depot)\n",
        "print(P)\n",
        "'''\n",
        "# Define parameters\n",
        "aik = {(i, k): 1 for i in N for k in K}  # All stations traveled in old routes\n",
        "c = 10  # Capacity of each bus\n",
        "dp = {1: 3, 2: 2}  # Designated stations of passenger groups\n",
        "e = 0.1  # Allowed travel time increase percentage\n",
        "fk = {1: 1, 2: 3}  # Fleet size for each route\n",
        "gk = {1: 20, 2: 35}  # Total travel time of the old routes\n",
        "op = {1: 1, 2: 2}  # Origin stations of passenger groups\n",
        "qp = {1: 20, 2: 10}  # Number of passengers in each group\n",
        "tij = {(0, 1): 8, (1, 0): 8, (0, 2): 10, (2, 0): 10, (0, 3): 10, (3, 0): 10,\n",
        "       (1, 2): 11, (2, 1): 11, (1, 3): 7, (3, 1): 7, (2, 3): 7, (3, 2): 7}  # Travel times between stations\n",
        "'''"
      ],
      "metadata": {
        "id": "JL0Yhp-hzO2u",
        "colab": {
          "base_uri": "https://localhost:8080/",
          "height": 200
        },
        "outputId": "4c0a018d-0cd7-47ce-800b-e88da80332dc"
      },
      "execution_count": 3,
      "outputs": [
        {
          "output_type": "stream",
          "name": "stdout",
          "text": [
            "[1.0, 0.0]\n",
            "[1, 2]\n",
            "[1, 2, 3]\n",
            "N_with_depot =  [0, 1, 2, 3]\n",
            "[1, 2]\n"
          ]
        },
        {
          "output_type": "execute_result",
          "data": {
            "text/plain": [
              "'\\n# Define parameters\\naik = {(i, k): 1 for i in N for k in K}  # All stations traveled in old routes\\nc = 10  # Capacity of each bus\\ndp = {1: 3, 2: 2}  # Designated stations of passenger groups\\ne = 0.1  # Allowed travel time increase percentage\\nfk = {1: 1, 2: 3}  # Fleet size for each route\\ngk = {1: 20, 2: 35}  # Total travel time of the old routes\\nop = {1: 1, 2: 2}  # Origin stations of passenger groups\\nqp = {1: 20, 2: 10}  # Number of passengers in each group\\ntij = {(0, 1): 8, (1, 0): 8, (0, 2): 10, (2, 0): 10, (0, 3): 10, (3, 0): 10,\\n       (1, 2): 11, (2, 1): 11, (1, 3): 7, (3, 1): 7, (2, 3): 7, (3, 2): 7}  # Travel times between stations\\n'"
            ],
            "application/vnd.google.colaboratory.intrinsic+json": {
              "type": "string"
            }
          },
          "metadata": {},
          "execution_count": 3
        }
      ]
    },
    {
      "cell_type": "markdown",
      "source": [
        "4. **Model, Decision Variable, Set Objective**"
      ],
      "metadata": {
        "id": "Y5PvFTFvKx0q"
      }
    },
    {
      "cell_type": "markdown",
      "source": [
        "5. **Define the Constraints**"
      ],
      "metadata": {
        "id": "ywvupcgJKyD8"
      }
    },
    {
      "cell_type": "code",
      "source": [
        "# Create Gurobi model\n",
        "model = gp.Model(\"Bus_Routing\")\n",
        "\n",
        "# Define decision variables\n",
        "vik = model.addVars(N, K, vtype=GRB.BINARY, name=\"vik\")\n",
        "wik = model.addVars(N_with_depot, K, vtype=GRB.BINARY, name=\"wik\")\n",
        "xijk = model.addVars(N_with_depot, N_with_depot, K, vtype=GRB.BINARY, name=\"xijk\")\n",
        "ypk = model.addVars(P, K, vtype=GRB.BINARY, name=\"ypk\")\n",
        "zik = model.addVars(N, K, vtype=GRB.INTEGER, name=\"zik\")\n",
        "\n",
        "print(vik)\n",
        "print(wik)\n",
        "print(xijk)\n",
        "print(ypk)\n",
        "print(zik)\n",
        "\n",
        "# Objective function: Maximize the sum of vik\n",
        "model.setObjective(gp.quicksum(vik[i, k] for i in N for k in K), GRB.MAXIMIZE) #Constraint model 1"
      ],
      "metadata": {
        "id": "3FSiJw-bKx78",
        "colab": {
          "base_uri": "https://localhost:8080/"
        },
        "outputId": "76916cbc-5dcd-4f2d-e84b-bef0ee31ab3d"
      },
      "execution_count": 4,
      "outputs": [
        {
          "output_type": "stream",
          "name": "stdout",
          "text": [
            "Restricted license - for non-production use only - expires 2026-11-23\n",
            "{(1, 1): <gurobi.Var *Awaiting Model Update*>, (1, 2): <gurobi.Var *Awaiting Model Update*>, (2, 1): <gurobi.Var *Awaiting Model Update*>, (2, 2): <gurobi.Var *Awaiting Model Update*>, (3, 1): <gurobi.Var *Awaiting Model Update*>, (3, 2): <gurobi.Var *Awaiting Model Update*>}\n",
            "{(0, 1): <gurobi.Var *Awaiting Model Update*>, (0, 2): <gurobi.Var *Awaiting Model Update*>, (1, 1): <gurobi.Var *Awaiting Model Update*>, (1, 2): <gurobi.Var *Awaiting Model Update*>, (2, 1): <gurobi.Var *Awaiting Model Update*>, (2, 2): <gurobi.Var *Awaiting Model Update*>, (3, 1): <gurobi.Var *Awaiting Model Update*>, (3, 2): <gurobi.Var *Awaiting Model Update*>}\n",
            "{(0, 0, 1): <gurobi.Var *Awaiting Model Update*>, (0, 0, 2): <gurobi.Var *Awaiting Model Update*>, (0, 1, 1): <gurobi.Var *Awaiting Model Update*>, (0, 1, 2): <gurobi.Var *Awaiting Model Update*>, (0, 2, 1): <gurobi.Var *Awaiting Model Update*>, (0, 2, 2): <gurobi.Var *Awaiting Model Update*>, (0, 3, 1): <gurobi.Var *Awaiting Model Update*>, (0, 3, 2): <gurobi.Var *Awaiting Model Update*>, (1, 0, 1): <gurobi.Var *Awaiting Model Update*>, (1, 0, 2): <gurobi.Var *Awaiting Model Update*>, (1, 1, 1): <gurobi.Var *Awaiting Model Update*>, (1, 1, 2): <gurobi.Var *Awaiting Model Update*>, (1, 2, 1): <gurobi.Var *Awaiting Model Update*>, (1, 2, 2): <gurobi.Var *Awaiting Model Update*>, (1, 3, 1): <gurobi.Var *Awaiting Model Update*>, (1, 3, 2): <gurobi.Var *Awaiting Model Update*>, (2, 0, 1): <gurobi.Var *Awaiting Model Update*>, (2, 0, 2): <gurobi.Var *Awaiting Model Update*>, (2, 1, 1): <gurobi.Var *Awaiting Model Update*>, (2, 1, 2): <gurobi.Var *Awaiting Model Update*>, (2, 2, 1): <gurobi.Var *Awaiting Model Update*>, (2, 2, 2): <gurobi.Var *Awaiting Model Update*>, (2, 3, 1): <gurobi.Var *Awaiting Model Update*>, (2, 3, 2): <gurobi.Var *Awaiting Model Update*>, (3, 0, 1): <gurobi.Var *Awaiting Model Update*>, (3, 0, 2): <gurobi.Var *Awaiting Model Update*>, (3, 1, 1): <gurobi.Var *Awaiting Model Update*>, (3, 1, 2): <gurobi.Var *Awaiting Model Update*>, (3, 2, 1): <gurobi.Var *Awaiting Model Update*>, (3, 2, 2): <gurobi.Var *Awaiting Model Update*>, (3, 3, 1): <gurobi.Var *Awaiting Model Update*>, (3, 3, 2): <gurobi.Var *Awaiting Model Update*>}\n",
            "{(1, 1): <gurobi.Var *Awaiting Model Update*>, (1, 2): <gurobi.Var *Awaiting Model Update*>, (2, 1): <gurobi.Var *Awaiting Model Update*>, (2, 2): <gurobi.Var *Awaiting Model Update*>}\n",
            "{(1, 1): <gurobi.Var *Awaiting Model Update*>, (1, 2): <gurobi.Var *Awaiting Model Update*>, (2, 1): <gurobi.Var *Awaiting Model Update*>, (2, 2): <gurobi.Var *Awaiting Model Update*>, (3, 1): <gurobi.Var *Awaiting Model Update*>, (3, 2): <gurobi.Var *Awaiting Model Update*>}\n"
          ]
        }
      ]
    },
    {
      "cell_type": "markdown",
      "source": [
        "5. **Check The Model Print the Result**"
      ],
      "metadata": {
        "id": "XUPgmEGsKyVv"
      }
    },
    {
      "cell_type": "code",
      "source": [
        "# Constraints\n",
        "# Constraint Model 2-3 untuk start dan end nya di depot\n",
        "for k in K:\n",
        "    model.addConstr(gp.quicksum(xijk[0, j, k] for j in N_with_depot) == 1)\n",
        "    model.addConstr(gp.quicksum(xijk[i, 0, k] for i in N_with_depot) == 1)\n",
        "\n",
        "#Constraint Model 4 untuk guarantee the flow conservation for each route k\n",
        "for i in N:\n",
        "  for k in K:\n",
        "    model.addConstr(gp.quicksum(xijk[j, i, k] for j in N_with_depot) == gp.quicksum(xijk[i, j, k] for j in N_with_depot))\n",
        "\n",
        "'''\n",
        "#Constraint Model 4 untuk guarantee the flow conservation for each route k\n",
        "for i in N_with_depot:\n",
        "  for k in K:\n",
        "    model.addConstr(gp.quicksum(xijk[i, j, k] for j in N_with_depot) == 1)\n",
        "\n",
        "#Constraint Model 5 untuk guarantee the flow conservation for each route k\n",
        "for j in N_with_depot:\n",
        "  for k in K:\n",
        "    model.addConstr(gp.quicksum(xijk[i, j, k] for i in N_with_depot) == 1)\n",
        "'''\n",
        "\n",
        "#Constraint Model 6 sub tour elimintation---infeasible?\n",
        "for i in N:\n",
        "  for j in N:\n",
        "    for k in K:\n",
        "      model.addConstr(zik[j, k] >= zik[i, k] + 1 - len(N) * (1-xijk[i, j, k]))\n",
        "\n",
        "#Constraint Model 7 sub tour elimintation---infeasible?\n",
        "for i in N:\n",
        "  for k in K:\n",
        "    model.addConstr(zik[i, k] <= len(N)-1)\n",
        "\n",
        "#Constraint Model 8 Passanger to be assigned to route k if route k passes through the origin and designed stations of passenger p. Constraints\n",
        "for i in N:\n",
        "  for k in K:\n",
        "    model.addConstr(wik[i, k] <= gp.quicksum(xijk[i, j, k] for j in N_with_depot)) #for j in N\n",
        "\n",
        "#Constraint Model 9 Passanger to be assigned to route k if route k passes through the origin and designed stations of passenger p. Constraints\n",
        "for i in N:\n",
        "  for j in N_with_depot:\n",
        "    for k in K:\n",
        "      model.addConstr(xijk[i, j, k] <= wik[i, k])\n",
        "\n",
        "#Constraint Model 10 allow each passenger p to be assigned to route k if route k passes through the origin and designed stations of passenger p.\n",
        "for k in K:\n",
        "  for p in P:\n",
        "    model.addConstr(wik[parameter_o[p-1], k] + wik[parameter_d[p-1], k] >= 2 * ypk[p, k])\n",
        "\n",
        "#Constraint Model 11 ensure each passenger p is served by a route.\n",
        "for p in P:\n",
        "  model.addConstr(gp.quicksum(ypk[p, k] for k in K) == 1)\n",
        "\n",
        "#Constraint Model 12 limit the total number of passengers assigned to route k to be less than the total available capacity in the fleet of route k.----infeasible\n",
        "for k in K:\n",
        "   model.addConstr(parameter_c * parameter_f[k-1] >= gp.quicksum(ypk[p, k] * parameter_q[p-1] for p in P))\n",
        "\n",
        "#Constraint Model 13 ensure the increase in total travel time of each route k to be less than e percent of its old total travel time.\n",
        "for k in K:\n",
        "  model.addConstr(gp.quicksum(xijk[i, j, k] * parameter_t[i][j] for i in N_with_depot for j in N_with_depot if i != j) - parameter_g[k-1] <= parameter_g[k-1] * parameter_e)\n",
        "\n",
        "#Constraint Model 14 and 15 calculate the similarity indices between the old and new versions of routes.\n",
        "for i in N:\n",
        "  for k in K:\n",
        "    model.addConstr(vik[i, k] <= parameter_a[i-1][k-1] )\n",
        "    model.addConstr(vik[i, k] <= wik[i, k])\n",
        "\n",
        "'''\n",
        "#Constraint Model 16 untuk guarantee the flow conservation for each route k\n",
        "for i in N:\n",
        "  for k in K:\n",
        "    model.addConstr(xijk[i, i, k]  == 0)\n",
        "'''\n",
        "\n",
        "model.write(\"model.lp\")\n",
        "\n",
        "# Optimize the model\n",
        "model.optimize()"
      ],
      "metadata": {
        "id": "diItvHRQKyb6",
        "colab": {
          "base_uri": "https://localhost:8080/"
        },
        "outputId": "77dcf68a-7a8f-4f04-ba2e-c21e931fdc51"
      },
      "execution_count": 5,
      "outputs": [
        {
          "output_type": "stream",
          "name": "stdout",
          "text": [
            "Gurobi Optimizer version 12.0.1 build v12.0.1rc0 (linux64 - \"Ubuntu 22.04.4 LTS\")\n",
            "\n",
            "CPU model: Intel(R) Xeon(R) CPU @ 2.20GHz, instruction set [SSE2|AVX|AVX2]\n",
            "Thread count: 1 physical cores, 2 logical processors, using up to 2 threads\n",
            "\n",
            "Optimize a model with 86 rows, 56 columns and 240 nonzeros\n",
            "Model fingerprint: 0x88ab602f\n",
            "Variable types: 0 continuous, 56 integer (50 binary)\n",
            "Coefficient statistics:\n",
            "  Matrix range     [1e+00, 2e+01]\n",
            "  Objective range  [1e+00, 1e+00]\n",
            "  Bounds range     [1e+00, 1e+00]\n",
            "  RHS range        [1e+00, 4e+01]\n",
            "Found heuristic solution: objective 3.0000000\n",
            "Presolve removed 70 rows and 39 columns\n",
            "Presolve time: 0.00s\n",
            "Presolved: 16 rows, 17 columns, 66 nonzeros\n",
            "Variable types: 0 continuous, 17 integer (14 binary)\n",
            "\n",
            "Root relaxation: objective 4.000000e+00, 13 iterations, 0.00 seconds (0.00 work units)\n",
            "\n",
            "    Nodes    |    Current Node    |     Objective Bounds      |     Work\n",
            " Expl Unexpl |  Obj  Depth IntInf | Incumbent    BestBd   Gap | It/Node Time\n",
            "\n",
            "H    0     0                       4.0000000    4.00000  0.00%     -    0s\n",
            "     0     0    4.00000    0   10    4.00000    4.00000  0.00%     -    0s\n",
            "\n",
            "Explored 1 nodes (13 simplex iterations) in 0.04 seconds (0.00 work units)\n",
            "Thread count was 2 (of 2 available processors)\n",
            "\n",
            "Solution count 2: 4 3 \n",
            "\n",
            "Optimal solution found (tolerance 1.00e-04)\n",
            "Best objective 4.000000000000e+00, best bound 4.000000000000e+00, gap 0.0000%\n"
          ]
        }
      ]
    },
    {
      "cell_type": "code",
      "source": [
        "import time\n",
        "GUROBI_timelimit = 15*60  # in seconds\n",
        "start_time = time.time()\n",
        "model.reset(0)  # Reset model: remove any solutions from previous runs\n",
        "model.setParam(GRB.Param.TimeLimit, GUROBI_timelimit)\n",
        "model.setParam(GRB.Param.Presolve, True)\n",
        "model.optimize()\n",
        "end_time = time.time()\n",
        "\n",
        "# Print results\n",
        "print(\"Objective value = \", model.ObjVal)\n",
        "\n",
        "for v in model.getVars():\n",
        "  if v.x > 0:  # Print values that are larger than 0\n",
        "    print('%s: %g' % (v.varName, v.x))\n",
        "print(\"Computational time (CPU time) = \", end_time - start_time, \"seconds\")\n",
        "print(\"-----------------------------------------------------\")\n"
      ],
      "metadata": {
        "colab": {
          "base_uri": "https://localhost:8080/"
        },
        "id": "xGF4e9XnHvSB",
        "outputId": "b3592da4-84c6-416e-ae76-6312cea4f16b"
      },
      "execution_count": 6,
      "outputs": [
        {
          "output_type": "stream",
          "name": "stdout",
          "text": [
            "Discarded solution information\n",
            "Set parameter TimeLimit to value 900\n",
            "Set parameter Presolve to value 1\n",
            "Gurobi Optimizer version 12.0.1 build v12.0.1rc0 (linux64 - \"Ubuntu 22.04.4 LTS\")\n",
            "\n",
            "CPU model: Intel(R) Xeon(R) CPU @ 2.20GHz, instruction set [SSE2|AVX|AVX2]\n",
            "Thread count: 1 physical cores, 2 logical processors, using up to 2 threads\n",
            "\n",
            "Non-default parameters:\n",
            "TimeLimit  900\n",
            "Presolve  1\n",
            "\n",
            "Optimize a model with 86 rows, 56 columns and 240 nonzeros\n",
            "Model fingerprint: 0x88ab602f\n",
            "Variable types: 0 continuous, 56 integer (50 binary)\n",
            "Coefficient statistics:\n",
            "  Matrix range     [1e+00, 2e+01]\n",
            "  Objective range  [1e+00, 1e+00]\n",
            "  Bounds range     [1e+00, 1e+00]\n",
            "  RHS range        [1e+00, 4e+01]\n",
            "Found heuristic solution: objective 3.0000000\n",
            "Presolve removed 70 rows and 39 columns\n",
            "Presolve time: 0.00s\n",
            "Presolved: 16 rows, 17 columns, 66 nonzeros\n",
            "Variable types: 0 continuous, 17 integer (14 binary)\n",
            "\n",
            "Root relaxation: objective 4.000000e+00, 13 iterations, 0.00 seconds (0.00 work units)\n",
            "\n",
            "    Nodes    |    Current Node    |     Objective Bounds      |     Work\n",
            " Expl Unexpl |  Obj  Depth IntInf | Incumbent    BestBd   Gap | It/Node Time\n",
            "\n",
            "H    0     0                       4.0000000    4.00000  0.00%     -    0s\n",
            "     0     0    4.00000    0   10    4.00000    4.00000  0.00%     -    0s\n",
            "\n",
            "Explored 1 nodes (13 simplex iterations) in 0.05 seconds (0.00 work units)\n",
            "Thread count was 2 (of 2 available processors)\n",
            "\n",
            "Solution count 2: 4 3 \n",
            "\n",
            "Optimal solution found (tolerance 1.00e-04)\n",
            "Best objective 4.000000000000e+00, best bound 4.000000000000e+00, gap 0.0000%\n",
            "Objective value =  4.0\n",
            "vik[1,1]: 1\n",
            "vik[2,1]: 1\n",
            "vik[2,2]: 1\n",
            "vik[3,1]: 1\n",
            "wik[1,1]: 1\n",
            "wik[1,2]: 1\n",
            "wik[2,1]: 1\n",
            "wik[2,2]: 1\n",
            "wik[3,1]: 1\n",
            "xijk[0,1,1]: 1\n",
            "xijk[0,1,2]: 1\n",
            "xijk[1,2,2]: 1\n",
            "xijk[1,3,1]: 1\n",
            "xijk[2,0,1]: 1\n",
            "xijk[2,0,2]: 1\n",
            "xijk[3,2,1]: 1\n",
            "ypk[1,2]: 1\n",
            "ypk[2,1]: 1\n",
            "zik[2,1]: 2\n",
            "zik[2,2]: 2\n",
            "zik[3,1]: 1\n",
            "Computational time (CPU time) =  0.13006162643432617 seconds\n",
            "-----------------------------------------------------\n"
          ]
        }
      ]
    }
  ]
}